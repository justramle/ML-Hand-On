{
 "cells": [
  {
   "cell_type": "markdown",
   "metadata": {},
   "source": [
    "### Human Mem\n",
    "- Human perception\n",
    "- eyes need to adapt to dif env to the contrast: That's the case of bias and weight\n",
    "\n",
    "\n",
    "### Spacial effect of contrast\n",
    "- Human perception will make dif in saturation\n",
    "- Apply border to reduce the contrast for easier to human eyes to understan\n",
    "\n",
    "### Color \n",
    "- help to eye catch better\n",
    "- high staturation in small area and oppersite\n",
    "\n",
    "### PAP\n",
    "- \n",
    "\n",
    "### 3D deapth cues and texture\n",
    "- add/subtract the shadow affect in 3D\n",
    "- texture in patterns structure colors\n",
    "- \n",
    "\n",
    "### Feature : shape color texture saturation\n",
    "ex: election on map: with deapth 3D (red blue, saturation)\n",
    "\n",
    "### \n",
    "- !st visualize: attraction effect by default"
   ]
  }
 ],
 "metadata": {
  "language_info": {
   "name": "python"
  }
 },
 "nbformat": 4,
 "nbformat_minor": 2
}
