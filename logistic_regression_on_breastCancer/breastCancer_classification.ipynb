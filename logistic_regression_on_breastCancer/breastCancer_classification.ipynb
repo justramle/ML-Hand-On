{
 "cells": [
  {
   "cell_type": "markdown",
   "metadata": {},
   "source": [
    "## Breast Cancer Wisconsin Dataset\n",
    "July-August 1995.\n",
    "   - W.H. Wolberg, W.N. Street, and O.L. Mangasarian. Machine learning techniques\n",
    "     to diagnose breast cancer from fine-needle aspirates. Cancer Letters 77 (1994) \n",
    "     163-171."
   ]
  },
  {
   "cell_type": "markdown",
   "metadata": {},
   "source": [
    "### Prepare the dataset\n",
    "Exploring the dataset with 569 samples breast and 30 features. Target label is ['malignant' 'benign']. Malignant cancer that is more severe and can spread to other parts of the body (1) or Benign cancer that is less severe and less likely to spread (0).\n",
    "\n",
    "Dummy Example:\n",
    "\n",
    "| Sample | Feature 1 | Feature.. | Feature 30 |\n",
    "|--------|-----------|-----------|-----------|\n",
    "|   1    |    17.99  |   10.38   |   122.8   |\n",
    "|  ..    |    20.57  |   17.77   |   132.9   |\n",
    "|  569    |    19.69  |   21.25   |   130.0   |"
   ]
  },
  {
   "cell_type": "code",
   "execution_count": 69,
   "metadata": {},
   "outputs": [
    {
     "name": "stdout",
     "output_type": "stream",
     "text": [
      "The shape: (569, 30)\n",
      "The target shape (569,)\n",
      "The target name ['malignant' 'benign']\n",
      "There are 30 Features names(charasteristic).  ['mean radius' 'mean texture' 'mean perimeter' 'mean area'\n",
      " 'mean smoothness' 'mean compactness' 'mean concavity'\n",
      " 'mean concave points' 'mean symmetry' 'mean fractal dimension'\n",
      " 'radius error' 'texture error' 'perimeter error' 'area error'\n",
      " 'smoothness error' 'compactness error' 'concavity error'\n",
      " 'concave points error' 'symmetry error' 'fractal dimension error'\n",
      " 'worst radius' 'worst texture' 'worst perimeter' 'worst area'\n",
      " 'worst smoothness' 'worst compactness' 'worst concavity'\n",
      " 'worst concave points' 'worst symmetry' 'worst fractal dimension']\n",
      "First three samples: \n",
      " [[1.799e+01 1.038e+01 1.228e+02 1.001e+03 1.184e-01 2.776e-01 3.001e-01\n",
      "  1.471e-01 2.419e-01 7.871e-02 1.095e+00 9.053e-01 8.589e+00 1.534e+02\n",
      "  6.399e-03 4.904e-02 5.373e-02 1.587e-02 3.003e-02 6.193e-03 2.538e+01\n",
      "  1.733e+01 1.846e+02 2.019e+03 1.622e-01 6.656e-01 7.119e-01 2.654e-01\n",
      "  4.601e-01 1.189e-01]\n",
      " [2.057e+01 1.777e+01 1.329e+02 1.326e+03 8.474e-02 7.864e-02 8.690e-02\n",
      "  7.017e-02 1.812e-01 5.667e-02 5.435e-01 7.339e-01 3.398e+00 7.408e+01\n",
      "  5.225e-03 1.308e-02 1.860e-02 1.340e-02 1.389e-02 3.532e-03 2.499e+01\n",
      "  2.341e+01 1.588e+02 1.956e+03 1.238e-01 1.866e-01 2.416e-01 1.860e-01\n",
      "  2.750e-01 8.902e-02]\n",
      " [1.969e+01 2.125e+01 1.300e+02 1.203e+03 1.096e-01 1.599e-01 1.974e-01\n",
      "  1.279e-01 2.069e-01 5.999e-02 7.456e-01 7.869e-01 4.585e+00 9.403e+01\n",
      "  6.150e-03 4.006e-02 3.832e-02 2.058e-02 2.250e-02 4.571e-03 2.357e+01\n",
      "  2.553e+01 1.525e+02 1.709e+03 1.444e-01 4.245e-01 4.504e-01 2.430e-01\n",
      "  3.613e-01 8.758e-02]]\n"
     ]
    }
   ],
   "source": [
    "from sklearn.datasets import load_breast_cancer\n",
    "\n",
    "cancer = load_breast_cancer()\n",
    "# print(f\"Data: {cancer.data}\")\n",
    "print(f\"The shape: {cancer.data.shape}\")\n",
    "# print(f\"The target (the label cancer/not cancer): {cancer.target}\")\n",
    "print(f\"The target shape {cancer.target.shape}\")\n",
    "print(f\"The target name {cancer.target_names}\") \n",
    "print(f\"There are 30 Features names(charasteristic).  {cancer.feature_names}\") \n",
    "print(f\"First three samples: \\n {cancer.data[:3]}\")\n",
    "# print(cancer.DESCR)\n"
   ]
  },
  {
   "cell_type": "markdown",
   "metadata": {},
   "source": [
    "### box show the features 4 and 24 has large scale\n",
    "\n",
    "- Boxes: represents the IQR, the bottom edge of the box is the first quartile (Q1), and the top edge is the third quartile (Q3). The median by a line inside the box.\n",
    "\n",
    "- Whiskers: the lines that extend from the top and bottom of the box to show the highest and lowest values, the range of the data excluding outliers.\n",
    "\n",
    "- Outliers: The individual points that beyond the whiskers are considered outliers."
   ]
  },
  {
   "cell_type": "code",
   "execution_count": 70,
   "metadata": {},
   "outputs": [
    {
     "name": "stdout",
     "output_type": "stream",
     "text": [
      "mean smoothness\n",
      "worst smoothness\n"
     ]
    },
    {
     "data": {
      "image/png": "[encoded data removed]",
      "text/plain": [
       "<Figure size 640x480 with 1 Axes>"
      ]
     },
     "metadata": {},
     "output_type": "display_data"
    }
   ],
   "source": [
    "\n",
    "import matplotlib.pyplot as plt\n",
    "plt.boxplot(cancer.data)\n",
    "plt.xlabel('feature')\n",
    "plt.ylabel('value')\n",
    "plt.show\n",
    "print(cancer.feature_names[4]) \n",
    "print(cancer.feature_names[24]) \n"
   ]
  },
  {
   "cell_type": "markdown",
   "metadata": {},
   "source": [
    "### Split dataset\n",
    "- Evaluate the performance: divide the training and testing sets\n",
    "- Rules:\n",
    "    - Train should be more\n",
    "    - before dividing, (+) and (-) classes should be mixed train and test evenly\n",
    "    - Ratio classes: 2:1\n",
    "\n",
    "| Ratio | Train | Test |\n",
    "|--------|-----------|-----------|\n",
    "|   Right   |  ++++ vs --   |   ++ vs -  |\n",
    "|  Wrong   |   +++ vs --  |   ++ vs --  | "
   ]
  },
  {
   "cell_type": "code",
   "execution_count": 71,
   "metadata": {},
   "outputs": [],
   "source": [
    "from sklearn.model_selection import train_test_split\n",
    "# Prepare input features (X) and target variable (y)\n",
    "x = cancer.data\n",
    "y = cancer.target\n",
    "\n",
    "# y_train and y_test is target (result from x_train and x_test)\n",
    "# stratify=y make sure same ratio when split, ensures that each split of the data has the same proportion of class labels as the original dataset\n",
    "x_train, x_test, y_train, y_test = train_test_split(x, y, stratify=y, test_size=0.2, random_state=42)"
   ]
  },
  {
   "cell_type": "markdown",
   "metadata": {},
   "source": [
    "### Build neuron"
   ]
  },
  {
   "cell_type": "code",
   "execution_count": 72,
   "metadata": {},
   "outputs": [
    {
     "name": "stdout",
     "output_type": "stream",
     "text": [
      "[4 6 8]\n",
      "[ 3  8 15]\n"
     ]
    }
   ],
   "source": [
    "import numpy as np\n",
    "# debug for weighted sum\n",
    "a = np.array([1,2,3])\n",
    "b = np.array([3,4,5])\n",
    "print(a+b)\n",
    "print(a*b)"
   ]
  },
  {
   "cell_type": "code",
   "execution_count": 73,
   "metadata": {},
   "outputs": [],
   "source": [
    "class LogisticNeuron:\n",
    "    def __init__(self):\n",
    "        self.weight = None\n",
    "        self.bias = None\n",
    "\n",
    "    # Cal weighted sum of input (linear eqution)\n",
    "    def feed_forward(self,x):\n",
    "        z = np.dot(x, self.weight) + self.bias\n",
    "        return z\n",
    "    \n",
    "    def backprop(self, x, err):\n",
    "        weight_gradient = x * err\n",
    "        bias_gradient = 1 * err\n",
    "        return weight_gradient, bias_gradient\n",
    "    \n",
    "    def fit(self, x, y, epochs=100, lr=0.01):\n",
    "        self.weight = np.ones(x.shape[1])\n",
    "        self.bias = 0\n",
    "        for i in range(epochs):\n",
    "            for x_i, y_i in zip(x,y):\n",
    "                z = self.feed_forward(x_i) #compute ff\n",
    "                a = self.activation(z)\n",
    "                err = -(y_i - a)\n",
    "                weight_gradient, bias_gradient = self.backprop(x_i, err)\n",
    "                # update weight and bias\n",
    "                self.weight -= lr * weight_gradient\n",
    "                self.bias -= lr * bias_gradient\n",
    "\n",
    "\n",
    "    def activation(self, z):\n",
    "        a = 1/(1 + np.exp(-z))  # sigmoid\n",
    "        return a\n",
    "    \n",
    "    def predict(self, x):\n",
    "        z = np.dot(x, self.weight) + self.bias  # Vectorized operation for all samples\n",
    "        a = self.activation(np.array(z))\n",
    "        return a > 0.5\n"
   ]
  },
  {
   "cell_type": "code",
   "execution_count": 74,
   "metadata": {},
   "outputs": [
    {
     "ename": "TypeError",
     "evalue": "dot() missing 1 required positional argument: 'b'",
     "output_type": "error",
     "traceback": [
      "\u001b[0;31m---------------------------------------------------------------------------\u001b[0m",
      "\u001b[0;31mTypeError\u001b[0m                                 Traceback (most recent call last)",
      "Cell \u001b[0;32mIn[74], line 9\u001b[0m\n\u001b[1;32m      7\u001b[0m \u001b[38;5;66;03m# Initialize the LogisticNeuron\u001b[39;00m\n\u001b[1;32m      8\u001b[0m neuron \u001b[38;5;241m=\u001b[39m LogisticNeuron()\n\u001b[0;32m----> 9\u001b[0m neuron\u001b[38;5;241m.\u001b[39mfit(X_train_scaled, y_train, epochs\u001b[38;5;241m=\u001b[39m\u001b[38;5;241m1000\u001b[39m, lr\u001b[38;5;241m=\u001b[39m\u001b[38;5;241m0.01\u001b[39m)\n\u001b[1;32m     10\u001b[0m \u001b[38;5;66;03m# Make predictions\u001b[39;00m\n\u001b[1;32m     11\u001b[0m predictions \u001b[38;5;241m=\u001b[39m neuron\u001b[38;5;241m.\u001b[39mpredict(X_test_scaled)\n",
      "Cell \u001b[0;32mIn[73], line 21\u001b[0m, in \u001b[0;36mLogisticNeuron.fit\u001b[0;34m(self, x, y, epochs, lr)\u001b[0m\n\u001b[1;32m     19\u001b[0m \u001b[38;5;28;01mfor\u001b[39;00m i \u001b[38;5;129;01min\u001b[39;00m \u001b[38;5;28mrange\u001b[39m(epochs):\n\u001b[1;32m     20\u001b[0m     \u001b[38;5;28;01mfor\u001b[39;00m x_i, y_i \u001b[38;5;129;01min\u001b[39;00m \u001b[38;5;28mzip\u001b[39m(x,y):\n\u001b[0;32m---> 21\u001b[0m         z \u001b[38;5;241m=\u001b[39m \u001b[38;5;28mself\u001b[39m\u001b[38;5;241m.\u001b[39mfeed_forward(x_i) \u001b[38;5;66;03m#compute ff\u001b[39;00m\n\u001b[1;32m     22\u001b[0m         a \u001b[38;5;241m=\u001b[39m \u001b[38;5;28mself\u001b[39m\u001b[38;5;241m.\u001b[39mactivation(z)\n\u001b[1;32m     23\u001b[0m         err \u001b[38;5;241m=\u001b[39m \u001b[38;5;241m-\u001b[39m(y_i \u001b[38;5;241m-\u001b[39m a)\n",
      "Cell \u001b[0;32mIn[73], line 8\u001b[0m, in \u001b[0;36mLogisticNeuron.feed_forward\u001b[0;34m(self, x)\u001b[0m\n\u001b[1;32m      7\u001b[0m \u001b[38;5;28;01mdef\u001b[39;00m \u001b[38;5;21mfeed_forward\u001b[39m(\u001b[38;5;28mself\u001b[39m,x):\n\u001b[0;32m----> 8\u001b[0m     z \u001b[38;5;241m=\u001b[39m np\u001b[38;5;241m.\u001b[39mdot(x \u001b[38;5;241m*\u001b[39m \u001b[38;5;28mself\u001b[39m\u001b[38;5;241m.\u001b[39mweight) \u001b[38;5;241m+\u001b[39m \u001b[38;5;28mself\u001b[39m\u001b[38;5;241m.\u001b[39mbias\n\u001b[1;32m      9\u001b[0m     \u001b[38;5;28;01mreturn\u001b[39;00m z\n",
      "File \u001b[0;32m<__array_function__ internals>:198\u001b[0m, in \u001b[0;36mdot\u001b[0;34m(*args, **kwargs)\u001b[0m\n",
      "\u001b[0;31mTypeError\u001b[0m: dot() missing 1 required positional argument: 'b'"
     ]
    }
   ],
   "source": [
    "from sklearn.preprocessing import StandardScaler\n",
    "\n",
    "scaler = StandardScaler()\n",
    "X_train_scaled = scaler.fit_transform(x_train)\n",
    "X_test_scaled = scaler.transform(x_test)\n",
    "\n",
    "# Initialize the LogisticNeuron\n",
    "neuron = LogisticNeuron()\n",
    "neuron.fit(X_train_scaled, y_train, epochs=1000, lr=0.01)\n",
    "# Make predictions\n",
    "predictions = neuron.predict(X_test_scaled)\n",
    "\n",
    "# Evaluate the model\n",
    "accuracy = np.mean(predictions == y_test)\n",
    "print(f'Accuracy: {accuracy:.2f}')"
   ]
  }
 ],
 "metadata": {
  "kernelspec": {
   "display_name": "base",
   "language": "python",
   "name": "python3"
  },
  "language_info": {
   "codemirror_mode": {
    "name": "ipython",
    "version": 3
   },
   "file_extension": ".py",
   "mimetype": "text/x-python",
   "name": "python",
   "nbconvert_exporter": "python",
   "pygments_lexer": "ipython3",
   "version": "3.11.5"
  }
 },
 "nbformat": 4,
 "nbformat_minor": 2
}
